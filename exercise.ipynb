{
  "cells": [
    {
      "cell_type": "markdown",
      "id": "7d88d3f5",
      "metadata": {
        "id": "7d88d3f5"
      },
      "source": [
        "# Python Boot Camp\n",
        "\n",
        "\n",
        "Welcome! 😃👋\n",
        "\n",
        "In this notebook, we will go through some basic image processing in Python, come across standard tasks required while setting up deep learning pipelines, and familiarize ourselves with popular packages such as `glob`, `tifffile`, `tqdm` and more.\n",
        "We will learn about:\n",
        "- Loading images (This is important as images are the primary input to most deep learning models)\n",
        "- Normalizing images (This is important as it helps in faster convergence of models becuse it helps in reducing the scale of the input data and hence the scale of the gradients)\n",
        "- Cropping images (This is important as it helps in creating smaller images from the original images which is useful for training models in a memory efficient way)\n",
        "- Downsampling images (This is important as it helps in reducing the size of the images which is useful for training models in a memory efficient way)\n",
        "- Flipping images (This is important as it helps in creating new images from the original data which is useful for training models in a memory efficient way)\n",
        "- Batching images (As we train in a SGD manner, batching is important as it helps in training the model in a memory efficient way and smoothens the optimization process)\n",
        "- Convolutions (This is important as it is the primary operation in Convolutional Neural Networks)\n",
        "- Data Augmentation (This is important as it helps in artificially increasing the size of the training data which is useful for training models in a data efficient way)\n",
        "\n",
        "\n",
        "We will be using sample images from the *MoNuSeg* dataset provided by [Kumar et al, 2018](https://ieeexplore.ieee.org/document/8880654). The data was publicly made available [here](https://monuseg.grand-challenge.org/) by the authors of the publication.\n",
        "\n",
        "This dataset shows Hematoxylin and Eosin (H&E) Stained Images showing nuclei in different shapes."
      ]
    },
    {
      "cell_type": "markdown",
      "id": "33403a47",
      "metadata": {
        "id": "33403a47"
      },
      "source": [
        "## Chapter 0: Downloading data from an external url"
      ]
    },
    {
      "cell_type": "markdown",
      "id": "4823f6fc",
      "metadata": {
        "id": "4823f6fc"
      },
      "source": [
        "Let us first download the images from an external url.\n",
        "To do so, we need to import some commonly used dependencies."
      ]
    },
    {
      "cell_type": "code",
      "execution_count": 2,
      "id": "79611f6b",
      "metadata": {
        "id": "79611f6b"
      },
      "outputs": [],
      "source": [
        "from pathlib import Path # this library is used to handle file paths\n",
        "import urllib.request, zipfile # urllib is used to download files from the internet, zipfile is used to extract zip files"
      ]
    },
    {
      "cell_type": "markdown",
      "id": "85027339",
      "metadata": {
        "lines_to_next_cell": 2,
        "id": "85027339"
      },
      "source": [
        "Here, below is a helper function to download the data from an external url specified by argument `zip_url` and save it to a local directory specified by argument `project_name`. Let's execute the function (No output expected yet!)."
      ]
    },
    {
      "cell_type": "code",
      "execution_count": 3,
      "id": "c357cb5f",
      "metadata": {
        "id": "c357cb5f"
      },
      "outputs": [],
      "source": [
        "def extract_data(zip_url, project_name):\n",
        "    zip_path = Path(project_name + \".zip\")\n",
        "    if zip_path.exists():\n",
        "        print(\"Zip file was downloaded and extracted before!\")\n",
        "    else:\n",
        "        urllib.request.urlretrieve(zip_url, zip_path)\n",
        "        print(\"Downloaded data as {}\".format(zip_path))\n",
        "    with zipfile.ZipFile(zip_path, \"r\") as zip_ref:\n",
        "        zip_ref.extractall(\"./\")\n",
        "    print(\"Unzipped data to {}\".format(Path(project_name)))"
      ]
    },
    {
      "cell_type": "markdown",
      "id": "2413536b",
      "metadata": {
        "id": "2413536b"
      },
      "source": [
        "Now we call the function `extract_data` specifying desirable values of the arguments."
      ]
    },
    {
      "cell_type": "code",
      "execution_count": 4,
      "id": "ff335a45",
      "metadata": {
        "id": "ff335a45",
        "outputId": "599397be-9682-455d-ab86-e142b195f4f8",
        "colab": {
          "base_uri": "https://localhost:8080/"
        }
      },
      "outputs": [
        {
          "output_type": "stream",
          "name": "stdout",
          "text": [
            "Downloaded data as monuseg-2018.zip\n",
            "Unzipped data to monuseg-2018\n"
          ]
        }
      ],
      "source": [
        "extract_data(\n",
        "    zip_url=\"https://owncloud.mpi-cbg.de/index.php/s/xwYonC9LucjLsY6/download\",\n",
        "    project_name=\"monuseg-2018\",\n",
        ")"
      ]
    },
    {
      "cell_type": "markdown",
      "id": "bc40d2b0",
      "metadata": {
        "id": "bc40d2b0"
      },
      "source": [
        "### Task 0.1\n",
        "Click on the `Files` directory (left panel) and check if some images exist within the `monuseg-2018` directory."
      ]
    },
    {
      "cell_type": "markdown",
      "id": "4b5a0894",
      "metadata": {
        "id": "4b5a0894"
      },
      "source": [
        "### Task 0.2\n",
        "Can you use a bash command to programmatically count the number of images and masks present in the `download/images` directory ?\n",
        "\n",
        "*Hint*: Use `!ls -l <path> | wc - l` (you can run any bash command in a jupyter notebook by prefixing it with `!`) [Read more on this [here](https://linuxstans.com/wp-content/uploads/2023/06/bash-cheat-sheet.png)]"
      ]
    },
    {
      "cell_type": "code",
      "execution_count": 10,
      "id": "3c1bddf1",
      "metadata": {
        "tags": [
          "task"
        ],
        "id": "3c1bddf1",
        "outputId": "74e8f632-e765-4614-8e34-ff2e35df7a1c",
        "colab": {
          "base_uri": "https://localhost:8080/"
        }
      },
      "outputs": [
        {
          "output_type": "stream",
          "name": "stdout",
          "text": [
            "14\n"
          ]
        }
      ],
      "source": [
        "!ls -1 monuseg-2018/download/images | wc -l"
      ]
    },
    {
      "cell_type": "markdown",
      "id": "318f81b9",
      "metadata": {
        "id": "318f81b9"
      },
      "source": [
        "## Chapter 1"
      ]
    },
    {
      "cell_type": "markdown",
      "id": "01b48a99",
      "metadata": {
        "id": "01b48a99"
      },
      "source": [
        "### Images as arrays <a class=\"anchor\" name=\"first\"></a>\n",
        "\n",
        "2D Images are often represented as numpy arrays of shape (`height`, `width`, `num_channels`).\n",
        "\n",
        "![RGB image as a np array](https://github.com/dlmbl/boot/assets/34229641/ce1ad3f3-dc34-46d1-b301-198768fbc369)\n",
        "\n",
        "<div style=\"text-align: right\"> Credit: <a href=\"https://e2eml.school/convert_rgb_to_grayscale.html\">Brandon Rohrer’s Blog</a></div>\n",
        "\n",
        "\n",
        "Multiple utilities/packages exist to read images from files in Python.\n",
        "For example, one can use `tifffile.imread` to read `*.tif` images. <br>Another good package is `skimage.io.imread`.\n",
        "\n",
        "\n",
        "If you look in the directory (`monuseg-2018/download`), you can see directories called `images` and `masks`.\n",
        "\n",
        "Let's load one image and visualize it using `matplotlib.pyplot.imshow`. <br>\n",
        "`matplotlib.pyplot.imshow` is the standard way to show images in jupyter notebooks!"
      ]
    },
    {
      "cell_type": "code",
      "execution_count": 1,
      "id": "8276c80e",
      "metadata": {
        "id": "8276c80e",
        "outputId": "5a829adc-6bf4-4686-c235-9c515f827db9",
        "colab": {
          "base_uri": "https://localhost:8080/",
          "height": 373
        }
      },
      "outputs": [
        {
          "output_type": "error",
          "ename": "FileNotFoundError",
          "evalue": "[Errno 2] No such file or directory: '/content/monuseg-2018/download/images/TCGA-2Z-A9J9-01A-01-TS1.tif'",
          "traceback": [
            "\u001b[0;31m---------------------------------------------------------------------------\u001b[0m",
            "\u001b[0;31mFileNotFoundError\u001b[0m                         Traceback (most recent call last)",
            "\u001b[0;32m<ipython-input-1-ea924f3517ad>\u001b[0m in \u001b[0;36m<cell line: 0>\u001b[0;34m()\u001b[0m\n\u001b[1;32m      2\u001b[0m \u001b[0;32mimport\u001b[0m \u001b[0mmatplotlib\u001b[0m\u001b[0;34m.\u001b[0m\u001b[0mpyplot\u001b[0m \u001b[0;32mas\u001b[0m \u001b[0mplt\u001b[0m\u001b[0;34m\u001b[0m\u001b[0;34m\u001b[0m\u001b[0m\n\u001b[1;32m      3\u001b[0m \u001b[0;34m\u001b[0m\u001b[0m\n\u001b[0;32m----> 4\u001b[0;31m \u001b[0mimg\u001b[0m \u001b[0;34m=\u001b[0m \u001b[0mimread\u001b[0m\u001b[0;34m(\u001b[0m\u001b[0;34m\"monuseg-2018/download/images/TCGA-2Z-A9J9-01A-01-TS1.tif\"\u001b[0m\u001b[0;34m)\u001b[0m\u001b[0;34m\u001b[0m\u001b[0;34m\u001b[0m\u001b[0m\n\u001b[0m\u001b[1;32m      5\u001b[0m \u001b[0mprint\u001b[0m\u001b[0;34m(\u001b[0m\u001b[0;34mf\"Image `img` has type {type(img)}\"\u001b[0m\u001b[0;34m)\u001b[0m  \u001b[0;31m# variable type\u001b[0m\u001b[0;34m\u001b[0m\u001b[0;34m\u001b[0m\u001b[0m\n\u001b[1;32m      6\u001b[0m \u001b[0mplt\u001b[0m\u001b[0;34m.\u001b[0m\u001b[0mimshow\u001b[0m\u001b[0;34m(\u001b[0m\u001b[0mimg\u001b[0m\u001b[0;34m)\u001b[0m\u001b[0;34m\u001b[0m\u001b[0;34m\u001b[0m\u001b[0m\n",
            "\u001b[0;32m/usr/local/lib/python3.11/dist-packages/tifffile/tifffile.py\u001b[0m in \u001b[0;36mimread\u001b[0;34m(files, selection, aszarr, key, series, level, squeeze, maxworkers, buffersize, mode, name, offset, size, pattern, axesorder, categories, imread, imreadargs, sort, container, chunkshape, chunkdtype, axestiled, ioworkers, chunkmode, fillvalue, zattrs, multiscales, omexml, out, out_inplace, _multifile, _useframes, **kwargs)\u001b[0m\n\u001b[1;32m   1205\u001b[0m \u001b[0;34m\u001b[0m\u001b[0m\n\u001b[1;32m   1206\u001b[0m         \u001b[0;32mif\u001b[0m \u001b[0misinstance\u001b[0m\u001b[0;34m(\u001b[0m\u001b[0mfiles\u001b[0m\u001b[0;34m,\u001b[0m \u001b[0mstr\u001b[0m\u001b[0;34m)\u001b[0m \u001b[0;32mor\u001b[0m \u001b[0;32mnot\u001b[0m \u001b[0misinstance\u001b[0m\u001b[0;34m(\u001b[0m\u001b[0mfiles\u001b[0m\u001b[0;34m,\u001b[0m \u001b[0mSequence\u001b[0m\u001b[0;34m)\u001b[0m\u001b[0;34m:\u001b[0m\u001b[0;34m\u001b[0m\u001b[0;34m\u001b[0m\u001b[0m\n\u001b[0;32m-> 1207\u001b[0;31m             with TiffFile(\n\u001b[0m\u001b[1;32m   1208\u001b[0m                 \u001b[0mfiles\u001b[0m\u001b[0;34m,\u001b[0m\u001b[0;34m\u001b[0m\u001b[0;34m\u001b[0m\u001b[0m\n\u001b[1;32m   1209\u001b[0m                 \u001b[0mmode\u001b[0m\u001b[0;34m=\u001b[0m\u001b[0mmode\u001b[0m\u001b[0;34m,\u001b[0m\u001b[0;34m\u001b[0m\u001b[0;34m\u001b[0m\u001b[0m\n",
            "\u001b[0;32m/usr/local/lib/python3.11/dist-packages/tifffile/tifffile.py\u001b[0m in \u001b[0;36m__init__\u001b[0;34m(self, file, mode, name, offset, size, omexml, _multifile, _useframes, _parent, **is_flags)\u001b[0m\n\u001b[1;32m   4233\u001b[0m             \u001b[0mself\u001b[0m\u001b[0;34m.\u001b[0m\u001b[0mis_ome\u001b[0m \u001b[0;34m=\u001b[0m \u001b[0;32mTrue\u001b[0m\u001b[0;34m\u001b[0m\u001b[0;34m\u001b[0m\u001b[0m\n\u001b[1;32m   4234\u001b[0m \u001b[0;34m\u001b[0m\u001b[0m\n\u001b[0;32m-> 4235\u001b[0;31m         \u001b[0mfh\u001b[0m \u001b[0;34m=\u001b[0m \u001b[0mFileHandle\u001b[0m\u001b[0;34m(\u001b[0m\u001b[0mfile\u001b[0m\u001b[0;34m,\u001b[0m \u001b[0mmode\u001b[0m\u001b[0;34m=\u001b[0m\u001b[0mmode\u001b[0m\u001b[0;34m,\u001b[0m \u001b[0mname\u001b[0m\u001b[0;34m=\u001b[0m\u001b[0mname\u001b[0m\u001b[0;34m,\u001b[0m \u001b[0moffset\u001b[0m\u001b[0;34m=\u001b[0m\u001b[0moffset\u001b[0m\u001b[0;34m,\u001b[0m \u001b[0msize\u001b[0m\u001b[0;34m=\u001b[0m\u001b[0msize\u001b[0m\u001b[0;34m)\u001b[0m\u001b[0;34m\u001b[0m\u001b[0;34m\u001b[0m\u001b[0m\n\u001b[0m\u001b[1;32m   4236\u001b[0m         \u001b[0mself\u001b[0m\u001b[0;34m.\u001b[0m\u001b[0m_fh\u001b[0m \u001b[0;34m=\u001b[0m \u001b[0mfh\u001b[0m\u001b[0;34m\u001b[0m\u001b[0;34m\u001b[0m\u001b[0m\n\u001b[1;32m   4237\u001b[0m         \u001b[0mself\u001b[0m\u001b[0;34m.\u001b[0m\u001b[0m_multifile\u001b[0m \u001b[0;34m=\u001b[0m \u001b[0;32mTrue\u001b[0m \u001b[0;32mif\u001b[0m \u001b[0m_multifile\u001b[0m \u001b[0;32mis\u001b[0m \u001b[0;32mNone\u001b[0m \u001b[0;32melse\u001b[0m \u001b[0mbool\u001b[0m\u001b[0;34m(\u001b[0m\u001b[0m_multifile\u001b[0m\u001b[0;34m)\u001b[0m\u001b[0;34m\u001b[0m\u001b[0;34m\u001b[0m\u001b[0m\n",
            "\u001b[0;32m/usr/local/lib/python3.11/dist-packages/tifffile/tifffile.py\u001b[0m in \u001b[0;36m__init__\u001b[0;34m(self, file, mode, name, offset, size)\u001b[0m\n\u001b[1;32m  14609\u001b[0m         \u001b[0mself\u001b[0m\u001b[0;34m.\u001b[0m\u001b[0m_close\u001b[0m \u001b[0;34m=\u001b[0m \u001b[0;32mTrue\u001b[0m\u001b[0;34m\u001b[0m\u001b[0;34m\u001b[0m\u001b[0m\n\u001b[1;32m  14610\u001b[0m         \u001b[0mself\u001b[0m\u001b[0;34m.\u001b[0m\u001b[0m_lock\u001b[0m \u001b[0;34m=\u001b[0m \u001b[0mNullContext\u001b[0m\u001b[0;34m(\u001b[0m\u001b[0;34m)\u001b[0m\u001b[0;34m\u001b[0m\u001b[0;34m\u001b[0m\u001b[0m\n\u001b[0;32m> 14611\u001b[0;31m         \u001b[0mself\u001b[0m\u001b[0;34m.\u001b[0m\u001b[0mopen\u001b[0m\u001b[0;34m(\u001b[0m\u001b[0;34m)\u001b[0m\u001b[0;34m\u001b[0m\u001b[0;34m\u001b[0m\u001b[0m\n\u001b[0m\u001b[1;32m  14612\u001b[0m         \u001b[0;32massert\u001b[0m \u001b[0mself\u001b[0m\u001b[0;34m.\u001b[0m\u001b[0m_fh\u001b[0m \u001b[0;32mis\u001b[0m \u001b[0;32mnot\u001b[0m \u001b[0;32mNone\u001b[0m\u001b[0;34m\u001b[0m\u001b[0;34m\u001b[0m\u001b[0m\n\u001b[1;32m  14613\u001b[0m \u001b[0;34m\u001b[0m\u001b[0m\n",
            "\u001b[0;32m/usr/local/lib/python3.11/dist-packages/tifffile/tifffile.py\u001b[0m in \u001b[0;36mopen\u001b[0;34m(self)\u001b[0m\n\u001b[1;32m  14628\u001b[0m             \u001b[0mself\u001b[0m\u001b[0;34m.\u001b[0m\u001b[0m_file\u001b[0m \u001b[0;34m=\u001b[0m \u001b[0mos\u001b[0m\u001b[0;34m.\u001b[0m\u001b[0mpath\u001b[0m\u001b[0;34m.\u001b[0m\u001b[0mrealpath\u001b[0m\u001b[0;34m(\u001b[0m\u001b[0mself\u001b[0m\u001b[0;34m.\u001b[0m\u001b[0m_file\u001b[0m\u001b[0;34m)\u001b[0m\u001b[0;34m\u001b[0m\u001b[0;34m\u001b[0m\u001b[0m\n\u001b[1;32m  14629\u001b[0m             \u001b[0mself\u001b[0m\u001b[0;34m.\u001b[0m\u001b[0m_dir\u001b[0m\u001b[0;34m,\u001b[0m \u001b[0mself\u001b[0m\u001b[0;34m.\u001b[0m\u001b[0m_name\u001b[0m \u001b[0;34m=\u001b[0m \u001b[0mos\u001b[0m\u001b[0;34m.\u001b[0m\u001b[0mpath\u001b[0m\u001b[0;34m.\u001b[0m\u001b[0msplit\u001b[0m\u001b[0;34m(\u001b[0m\u001b[0mself\u001b[0m\u001b[0;34m.\u001b[0m\u001b[0m_file\u001b[0m\u001b[0;34m)\u001b[0m\u001b[0;34m\u001b[0m\u001b[0;34m\u001b[0m\u001b[0m\n\u001b[0;32m> 14630\u001b[0;31m             \u001b[0mself\u001b[0m\u001b[0;34m.\u001b[0m\u001b[0m_fh\u001b[0m \u001b[0;34m=\u001b[0m \u001b[0mopen\u001b[0m\u001b[0;34m(\u001b[0m\u001b[0mself\u001b[0m\u001b[0;34m.\u001b[0m\u001b[0m_file\u001b[0m\u001b[0;34m,\u001b[0m \u001b[0mself\u001b[0m\u001b[0;34m.\u001b[0m\u001b[0m_mode\u001b[0m\u001b[0;34m,\u001b[0m \u001b[0mencoding\u001b[0m\u001b[0;34m=\u001b[0m\u001b[0;32mNone\u001b[0m\u001b[0;34m)\u001b[0m\u001b[0;34m\u001b[0m\u001b[0;34m\u001b[0m\u001b[0m\n\u001b[0m\u001b[1;32m  14631\u001b[0m             \u001b[0mself\u001b[0m\u001b[0;34m.\u001b[0m\u001b[0m_close\u001b[0m \u001b[0;34m=\u001b[0m \u001b[0;32mTrue\u001b[0m\u001b[0;34m\u001b[0m\u001b[0;34m\u001b[0m\u001b[0m\n\u001b[1;32m  14632\u001b[0m             \u001b[0mself\u001b[0m\u001b[0;34m.\u001b[0m\u001b[0m_offset\u001b[0m \u001b[0;34m=\u001b[0m \u001b[0mmax\u001b[0m\u001b[0;34m(\u001b[0m\u001b[0;36m0\u001b[0m\u001b[0;34m,\u001b[0m \u001b[0mself\u001b[0m\u001b[0;34m.\u001b[0m\u001b[0m_offset\u001b[0m\u001b[0;34m)\u001b[0m\u001b[0;34m\u001b[0m\u001b[0;34m\u001b[0m\u001b[0m\n",
            "\u001b[0;31mFileNotFoundError\u001b[0m: [Errno 2] No such file or directory: '/content/monuseg-2018/download/images/TCGA-2Z-A9J9-01A-01-TS1.tif'"
          ]
        }
      ],
      "source": [
        "from tifffile import imread\n",
        "import matplotlib.pyplot as plt\n",
        "\n",
        "img = imread(\"monuseg-2018/download/images/TCGA-2Z-A9J9-01A-01-TS1.tif\")\n",
        "print(f\"Image `img` has type {type(img)}\")  # variable type\n",
        "plt.imshow(img)"
      ]
    },
    {
      "cell_type": "markdown",
      "id": "96c50d1b",
      "metadata": {
        "cell_marker": "\"\"\"",
        "id": "96c50d1b"
      },
      "source": [
        "<div class=\"alert alert-info\">\n",
        "\n",
        "### Task 1.1\n",
        "Can you visualize the corresponding `mask` for the image above? <br>\n",
        "(*Hint*: Look for the same name within the `masks` directory.) <br>\n",
        "What does the mask show?"
      ]
    },
    {
      "cell_type": "code",
      "execution_count": null,
      "id": "91ca9bdf",
      "metadata": {
        "tags": [
          "task"
        ],
        "id": "91ca9bdf"
      },
      "outputs": [],
      "source": [
        "##########################\n",
        "######## To Do ###########\n",
        "##########################\n",
        "\n",
        "mask = ...  # TODO\n",
        "print(f\"Mask `mask` has type {type(mask)}\")  # variable type\n",
        "plt.imshow(mask)"
      ]
    },
    {
      "cell_type": "markdown",
      "id": "644e76d4",
      "metadata": {
        "id": "644e76d4"
      },
      "source": [
        "### Function description\n",
        "There is a way in python to get the description of a function. This is useful when you are not sure what the function does or what arguments it takes."
      ]
    },
    {
      "cell_type": "markdown",
      "id": "ffcf66fa",
      "metadata": {
        "cell_marker": "\"\"\"",
        "id": "ffcf66fa"
      },
      "source": [
        "<div class=\"alert alert-info\">\n",
        "\n",
        "### Task 1.2\n",
        "\n",
        "Try to get the description of the `imread` function that we used above."
      ]
    },
    {
      "cell_type": "code",
      "execution_count": null,
      "id": "ea9293cb",
      "metadata": {
        "tags": [
          "task"
        ],
        "id": "ea9293cb"
      },
      "outputs": [],
      "source": [
        "##########################\n",
        "######## To Do ###########\n",
        "##########################"
      ]
    },
    {
      "cell_type": "markdown",
      "id": "608f732d",
      "metadata": {
        "id": "608f732d"
      },
      "source": [
        "### Image channels\n",
        "If the image is a `grayscale` image, then the number of channels is equal to $1$,\n",
        "in which case the array can also be of shape (height, width). <br>\n",
        "If the image is `RGB`, then the number of channels is $3$.\n",
        "with each channel encoding the red, green and blue components."
      ]
    },
    {
      "cell_type": "markdown",
      "id": "5d3041f7",
      "metadata": {
        "cell_marker": "\"\"\"",
        "id": "5d3041f7"
      },
      "source": [
        "<div class=\"alert alert-info\">\n",
        "\n",
        "### Task 1.3\n",
        "Is <code>img</code> RGB or grayscale ? What about the mask?\n",
        "\n",
        "*Hint*: <a href=\"https://assets.datacamp.com/blog_assets/Numpy_Python_Cheat_Sheet.pdf\">np cheatsheet</a>"
      ]
    },
    {
      "cell_type": "code",
      "execution_count": null,
      "id": "c9cc954a",
      "metadata": {
        "tags": [
          "task"
        ],
        "id": "c9cc954a"
      },
      "outputs": [],
      "source": [
        "##########################\n",
        "######## To Do ###########\n",
        "##########################"
      ]
    },
    {
      "cell_type": "markdown",
      "id": "0f6ed662",
      "metadata": {
        "id": "0f6ed662"
      },
      "source": [
        "### Image data types\n",
        "\n",
        "\n",
        "Images can be represented by a variety of data types. The following is a list of the most common datatypes:\n",
        "- `bool`: binary, 0 or 1\n",
        "- `uint8`: unsigned integers, 0 to 255 range\n",
        "- `float`: -1 to 1 or 0 to 1"
      ]
    },
    {
      "cell_type": "markdown",
      "id": "8eca5cc4",
      "metadata": {
        "cell_marker": "\"\"\"",
        "id": "8eca5cc4"
      },
      "source": [
        "<div class=\"alert alert-info\">\n",
        "\n",
        "### Task 1.4\n",
        "What is the data type of <code>img</code> and the <code>mask</code> ? What are the minimum and maximum intensity values?\n",
        "\n",
        "*Hint*: <a href=\"https://assets.datacamp.com/blog_assets/Numpy_Python_Cheat_Sheet.pdf\">np cheatsheet</a></div>"
      ]
    },
    {
      "cell_type": "code",
      "execution_count": null,
      "id": "523d12d3",
      "metadata": {
        "tags": [
          "task"
        ],
        "id": "523d12d3"
      },
      "outputs": [],
      "source": [
        "##########################\n",
        "######## To Do ###########\n",
        "##########################"
      ]
    },
    {
      "cell_type": "markdown",
      "id": "5e28185b",
      "metadata": {
        "id": "5e28185b"
      },
      "source": [
        "### Reshaping Images\n",
        "\n",
        "`PyTorch`, `TensorFlow` and `JAX` are popular deep learning frameworks.\n",
        "<br> In `PyTorch` images are represented as (`num_channels`, `height`, `width`).\n",
        "\n",
        "But the image which we are working with has the `channel` as the last axis.\n",
        "Therefore, we need to reshape (by swapping) the image to the correct shape."
      ]
    },
    {
      "cell_type": "markdown",
      "id": "b7cc9a44",
      "metadata": {
        "cell_marker": "\"\"\"",
        "id": "b7cc9a44"
      },
      "source": [
        "<div class=\"alert alert-info\">\n",
        "\n",
        "### Task 1.5\n",
        "Reshape <code>img</code> such that its shape is <code>(num_channels, height, width)</code>\n",
        "\n",
        "*Hint*: <a href=\"https://numpy.org/doc/stable/reference/generated/numpy.transpose.html\">np transpose</a>"
      ]
    },
    {
      "cell_type": "code",
      "execution_count": null,
      "id": "1c6cd560",
      "metadata": {
        "tags": [
          "task"
        ],
        "id": "1c6cd560"
      },
      "outputs": [],
      "source": [
        "##########################\n",
        "######## To Do ###########\n",
        "##########################\n",
        "\n",
        "import numpy as np\n",
        "\n",
        "print(f\"Before reshaping, image has shape {img.shape}\")\n",
        "img_reshaped = ...  ## TODO\n",
        "print(f\"After reshaping, image has shape {img_reshaped.shape}\")"
      ]
    },
    {
      "cell_type": "markdown",
      "id": "a9ff55b1",
      "metadata": {
        "id": "a9ff55b1"
      },
      "source": [
        "### Manipulating dimensions\n",
        "\n",
        "Manipulating dimensions is a common operation in deep learning. <br>\n",
        "Sometimes, the a neural network expects the input to be in a certain format, and we need to reshape the data accordingly. <br>\n",
        "Lets add a batch dimension (batching will be introduced later) to the image. <br>\n",
        "We can use `np.newaxis` to add a new axis to the image for this case as we are dealing with numpy arrays.\n",
        "Later we will see how to do this in PyTorch using `torch.unsqueeze`."
      ]
    },
    {
      "cell_type": "code",
      "execution_count": null,
      "id": "db71893f",
      "metadata": {
        "id": "db71893f"
      },
      "outputs": [],
      "source": [
        "img_with_batch = img_reshaped[np.newaxis, ...] #here we are adding a new axis at the 0th position, which is the batch dimension `...` means all the other dimensions\n",
        "print(f\"Image with batch has shape {img_with_batch.shape}\")"
      ]
    },
    {
      "cell_type": "markdown",
      "id": "3d8d8bb3",
      "metadata": {
        "id": "3d8d8bb3"
      },
      "source": [
        "### Normalizing Images\n",
        "\n",
        "Providing image inputs with intensities between [0, 1] often helps when training the model. <br>\n",
        "This is because the gradients are more stable and the model converges faster, and the model is not biased towards any particular intensity values. <br>\n",
        "One way of normalizing an image is to divide the intensity on each pixel by the maximum allowed intensity for the available data type."
      ]
    },
    {
      "cell_type": "markdown",
      "id": "aa3dd6f5",
      "metadata": {
        "cell_marker": "\"\"\"",
        "lines_to_next_cell": 0,
        "id": "aa3dd6f5"
      },
      "source": [
        "<div class=\"alert alert-info\">\n",
        "\n",
        "### Task 1.6\n",
        "Obtain an intensity normalized image using the idea above."
      ]
    },
    {
      "cell_type": "code",
      "execution_count": null,
      "id": "f2420db7",
      "metadata": {
        "lines_to_next_cell": 2,
        "tags": [
          "task"
        ],
        "id": "f2420db7"
      },
      "outputs": [],
      "source": [
        "##########################\n",
        "######## To Do ###########\n",
        "##########################\n",
        "\n",
        "\n",
        "def normalize(img):\n",
        "    norm_img = ...  # TODO\n",
        "    return norm_img"
      ]
    },
    {
      "cell_type": "markdown",
      "id": "6f061ce3",
      "metadata": {
        "cell_marker": "\"\"\"",
        "id": "6f061ce3"
      },
      "source": [
        "<div class=\"alert alert-info\">\n",
        "\n",
        "### Task 1.7\n",
        "What is the data type of the normalized image. Has it changed from before? Why?"
      ]
    },
    {
      "cell_type": "code",
      "execution_count": null,
      "id": "113cc570",
      "metadata": {
        "tags": [
          "task"
        ],
        "id": "113cc570"
      },
      "outputs": [],
      "source": [
        "##########################\n",
        "######## To Do ###########\n",
        "##########################"
      ]
    },
    {
      "cell_type": "markdown",
      "id": "ea2d9e28",
      "metadata": {
        "id": "ea2d9e28"
      },
      "source": [
        "### Loading a set of images\n",
        "\n",
        "Given a set of images in a folder, we need to be able to easily find the pathnames and load them in. <br>\n",
        "`glob` is a standard package that provides a utility for finding all pathnames that match a given pattern.\n",
        "\n",
        "Here, our images have the `.tif` extension."
      ]
    },
    {
      "cell_type": "code",
      "execution_count": null,
      "id": "2e7ea39c",
      "metadata": {
        "id": "2e7ea39c"
      },
      "outputs": [],
      "source": [
        "import os\n",
        "from glob import glob\n",
        "\n",
        "img_dir = \"monuseg-2018/download/images/\"\n",
        "img_filenames = sorted(glob(os.path.join(img_dir, \"*.tif\")))\n",
        "\n",
        "print(f\"Found:\")\n",
        "for img_filename in img_filenames:\n",
        "    print(f\"{img_filename}\")"
      ]
    },
    {
      "cell_type": "markdown",
      "id": "4f91a02d",
      "metadata": {
        "cell_marker": "\"\"\"",
        "id": "4f91a02d"
      },
      "source": [
        "<div class=\"alert alert-info\">\n",
        "\n",
        "### Task 1.8\n",
        "Load the set of masks, by correctly specifying the value of the variables `mask_dir` and `mask_filenames`"
      ]
    },
    {
      "cell_type": "code",
      "execution_count": null,
      "id": "5da687bc",
      "metadata": {
        "tags": [
          "task"
        ],
        "id": "5da687bc"
      },
      "outputs": [],
      "source": [
        "##########################\n",
        "######## To Do ###########\n",
        "##########################\n",
        "\n",
        "mask_dir = ...  # TODO: fill value!!\n",
        "mask_filenames = ...  # TODO: fill value!!\n",
        "for mask_filename in mask_filenames:\n",
        "    print(f\"{mask_filename}\")"
      ]
    },
    {
      "cell_type": "markdown",
      "id": "47a20485",
      "metadata": {
        "id": "47a20485"
      },
      "source": [
        "Let's visualize some of the images and the corresponding mask, side by side. First let's provide a helper `visualize` function which takes two images as argument.\n"
      ]
    },
    {
      "cell_type": "code",
      "execution_count": null,
      "id": "a4d17e1f",
      "metadata": {
        "id": "a4d17e1f"
      },
      "outputs": [],
      "source": [
        "import matplotlib.pyplot as plt\n",
        "\n",
        "def visualize(im1, im2):\n",
        "    plt.figure(figsize=(10, 10))\n",
        "    plt.subplot(121)\n",
        "    plt.imshow(im1)\n",
        "    plt.subplot(122)\n",
        "    plt.imshow(im2)\n",
        "    plt.tight_layout()"
      ]
    },
    {
      "cell_type": "markdown",
      "id": "cb5737d2",
      "metadata": {
        "id": "cb5737d2"
      },
      "source": [
        "Executing the cell below, would visualize a new random image and the corresponding segmentation mask, each time. This is because the variable `idx` gets a new value between $0$ and $14$ (there are $15$ images)."
      ]
    },
    {
      "cell_type": "code",
      "execution_count": null,
      "id": "37dc0d6b",
      "metadata": {
        "id": "37dc0d6b"
      },
      "outputs": [],
      "source": [
        "idx = 8 #change this value to visualize a different image and mask to explore the dataset\n",
        "visualize(imread(img_filenames[idx]), imread(mask_filenames[idx]))"
      ]
    },
    {
      "cell_type": "markdown",
      "id": "3340b611",
      "metadata": {
        "id": "3340b611"
      },
      "source": [
        "Note that all the labels in the right image have different colors. This is because the mask is a instance mask where each color represents a different class.\n",
        "The colors indicate an unique id for each object in the image."
      ]
    },
    {
      "cell_type": "markdown",
      "id": "1126e632",
      "metadata": {
        "cell_marker": "\"\"\"",
        "lines_to_next_cell": 0,
        "id": "1126e632"
      },
      "source": [
        "<div class=\"alert alert-success\">\n",
        "\n",
        "## Checkpoint 1\n",
        "\n",
        "Great Job! 🎊 Please post in the chat when you reach this checkpoint.\n",
        "\n",
        "In the first chapter, we learned about:\n",
        "\n",
        "<li> image data types</li>\n",
        "<li> reshaping images </li>\n",
        "<li> normalizing images </li>\n",
        "<li> Using <code>glob</code> to load a set of images\n",
        "\n",
        "These are important concepts to understand as they form the basis of most image processing pipelines because they are the basic data handling operations.\n",
        "\n",
        "<hr>\n",
        "</div>"
      ]
    },
    {
      "cell_type": "markdown",
      "id": "9ea9f42a",
      "metadata": {
        "id": "9ea9f42a"
      },
      "source": [
        "**Bonus Task for Chapter 1**: Can you think of alternate approaches to intensity normalization? Any benefits of following one over the other?"
      ]
    },
    {
      "cell_type": "markdown",
      "id": "f25e4ff8",
      "metadata": {
        "id": "f25e4ff8"
      },
      "source": [
        "Another approach could be percentile normalization. This maps the min intensity to 0 and max intensity to 0. This is useful if there are\n",
        "outliers in the data. The benefit of this approach is that it is robust to outliers."
      ]
    },
    {
      "cell_type": "markdown",
      "id": "4a1fea0b",
      "metadata": {
        "id": "4a1fea0b"
      },
      "source": [
        "## Chapter 2\n",
        "### Cropping\n",
        "\n",
        "While training models, we usually feed in smaller crops extracted from the original images.\n",
        "To do so, we can rely on the powerful numpy [indexing](https://numpy.org/doc/stable/user/basics.indexing.html).\n",
        "\n",
        "For example, let's extract the top left (second) quadrant from one of our images.\n",
        "\n",
        "In the cell below, the original image is visualized on the left and the cropped image is seen on the right."
      ]
    },
    {
      "cell_type": "code",
      "execution_count": null,
      "id": "f186d6ef",
      "metadata": {
        "id": "f186d6ef"
      },
      "outputs": [],
      "source": [
        "idx = np.random.randint(len(img_filenames))\n",
        "img = imread(img_filenames[idx])\n",
        "cropped_img = img[0:500, 0:500, :]\n",
        "visualize(img, cropped_img)"
      ]
    },
    {
      "cell_type": "markdown",
      "id": "8eeffef6",
      "metadata": {
        "cell_marker": "\"\"\"",
        "id": "8eeffef6"
      },
      "source": [
        "<div class=\"alert alert-info\">\n",
        "\n",
        "### Task 2.1\n",
        "Visualize the bottom left (third) quadrant of a random image"
      ]
    },
    {
      "cell_type": "code",
      "execution_count": null,
      "id": "dd0b318f",
      "metadata": {
        "tags": [
          "task"
        ],
        "id": "dd0b318f"
      },
      "outputs": [],
      "source": [
        "##########################\n",
        "######## To Do ###########\n",
        "##########################\n",
        "\n",
        "idx = np.random.randint(len(img_filenames))\n",
        "img = imread(img_filenames[idx])\n",
        "cropped_img = ...  # TODO : fill correct value!!\n",
        "visualize(img, cropped_img)"
      ]
    },
    {
      "cell_type": "markdown",
      "id": "2d636103",
      "metadata": {
        "id": "2d636103"
      },
      "source": [
        "### Downsampling\n",
        "\n",
        "For large images, sometimes we require that they are downsampled to fit in memory. <br>\n",
        "\n",
        "**Note:** Downsampling is a lossy operation, as we are removing information from the image. If your images contain important information in the removed pixels, this can be detrimental to the model's performance. <br>\n",
        "This is usually not a problem for images with a high resolution, as the removed information is often redundant. <br>\n",
        "However, if subtle structes in the content of your image is important, it is better to crop the image rather than downsample it. <br>\n",
        "\n",
        "Say if one wants to have every fourth pixel from the original image, one specifies `factor` = $4$, and one can run the following cell:"
      ]
    },
    {
      "cell_type": "code",
      "execution_count": null,
      "id": "4011f9b1",
      "metadata": {
        "id": "4011f9b1"
      },
      "outputs": [],
      "source": [
        "# downsampling\n",
        "idx = np.random.randint(len(img_filenames))\n",
        "img = imread(img_filenames[idx])\n",
        "\n",
        "factor = 4\n",
        "downsampled_img = img[::factor, ::factor] # here we are selecting every 'factor' pixel in the height and width dimension\n",
        "print(f\"Original image shape: {img.shape}\")\n",
        "print(f\"Downsampled image shape: {downsampled_img.shape}\")\n",
        "\n",
        "# Let's visualize the original image and the downsampled image side by side\n",
        "visualize(img, downsampled_img)"
      ]
    },
    {
      "cell_type": "markdown",
      "id": "25ea3504",
      "metadata": {
        "cell_marker": "\"\"\"",
        "id": "25ea3504"
      },
      "source": [
        "<div class=\"alert alert-info\">\n",
        "\n",
        "### Task 2.2\n",
        "Can you see that the image on the right lacks some detail on account of being downsampled? <br>\n",
        "This might not be readily evident now, but if you look closely, you can see that the image on the right is a bit blurry. <br>\n",
        "This is because we are skipping pixels while downsampling.\n",
        "\n",
        "To make the effect more evident, try other extreme values of the downsampling `factor`."
      ]
    },
    {
      "cell_type": "code",
      "execution_count": null,
      "id": "bb3bf0a6",
      "metadata": {
        "tags": [
          "task"
        ],
        "id": "bb3bf0a6"
      },
      "outputs": [],
      "source": [
        "##########################\n",
        "######## To Do ###########\n",
        "##########################\n",
        "\n",
        "factor = ...\n",
        "downsampled_img = img[::factor, ::factor]\n",
        "visualize(img, downsampled_img)"
      ]
    },
    {
      "cell_type": "markdown",
      "id": "23264353",
      "metadata": {
        "id": "23264353"
      },
      "source": [
        "### Flipping\n",
        "\n",
        "Sometimes, one wishes to create new images from original data by performing transformations.\n",
        "\n",
        "One way to create a new image is by flipping an image about a given axis, which creates a mirror image!\n",
        "\n",
        "Run the following cell to visualize a vertically flipped image."
      ]
    },
    {
      "cell_type": "code",
      "execution_count": null,
      "id": "d1f3f47b",
      "metadata": {
        "id": "d1f3f47b"
      },
      "outputs": [],
      "source": [
        "idx = np.random.randint(len(img_filenames))\n",
        "img = imread(img_filenames[idx])\n",
        "# Here the image dimensions are (height, width, num_channels), ::-1 means reverse the order of the elements in the array on the height axis\n",
        "vflipped_img = img[::-1, :, :]\n",
        "visualize(img, vflipped_img)"
      ]
    },
    {
      "cell_type": "markdown",
      "id": "5fd51a97",
      "metadata": {
        "cell_marker": "\"\"\"",
        "id": "5fd51a97"
      },
      "source": [
        "<div class=\"alert alert-info\">\n",
        "\n",
        "### Task 2.3\n",
        "Create a horizontally flipped image and visualize!"
      ]
    },
    {
      "cell_type": "code",
      "execution_count": null,
      "id": "f9b962ae",
      "metadata": {
        "tags": [
          "task"
        ],
        "id": "f9b962ae"
      },
      "outputs": [],
      "source": [
        "##########################\n",
        "######## To Do ###########\n",
        "##########################\n",
        "\n",
        "idx = np.random.randint(len(img_filenames))\n",
        "img = imread(img_filenames[idx])\n",
        "hflipped_img = ...  ## TODO: fill correct value\n",
        "visualize(img, hflipped_img)"
      ]
    },
    {
      "cell_type": "markdown",
      "id": "fb82377c",
      "metadata": {
        "cell_marker": "\"\"\"",
        "lines_to_next_cell": 0,
        "id": "fb82377c"
      },
      "source": [
        "<div class=\"alert alert-info\">\n",
        "\n",
        "### Bonus Task for Chapter 2\n",
        "Can you think of any other reason why we need to crop images, aside from saving memory?"
      ]
    },
    {
      "cell_type": "code",
      "execution_count": null,
      "id": "e21dee97",
      "metadata": {
        "tags": [
          "task"
        ],
        "id": "e21dee97"
      },
      "outputs": [],
      "source": [
        "##########################\n",
        "######## To Do ###########\n",
        "##########################"
      ]
    },
    {
      "cell_type": "markdown",
      "id": "508c556e",
      "metadata": {
        "cell_marker": "\"\"\"",
        "id": "508c556e"
      },
      "source": [
        "<div class=\"alert alert-success\">\n",
        "\n",
        "<hr>\n",
        "Fantastic Work! 🙏 Please post on the course chat when you reach this checkpoint.\n",
        "\n",
        "## Checkpoint 2\n",
        "\n",
        "In the second chapter, we learnt about:\n",
        "\n",
        "<li> cropping images </li>\n",
        "<li> downsampling images </li>\n",
        "<li> flipping images </li>\n",
        "\n",
        "These operations are important as they help in creating new images from the original data.\n",
        "These are also ways of basic data augmentation which is useful for training models.\n",
        "\n",
        "<hr>\n",
        "</div>"
      ]
    },
    {
      "cell_type": "markdown",
      "id": "02cd8dfb",
      "metadata": {
        "id": "02cd8dfb"
      },
      "source": [
        "**Bonus Task for Chapter 2**\n",
        "\n",
        "Can you think of reasons why we need to crop images?\n",
        "Can't we feed in all the images at the original size to the model?"
      ]
    },
    {
      "cell_type": "markdown",
      "id": "0c545d13",
      "metadata": {
        "id": "0c545d13"
      },
      "source": [
        "1. To increase the amount of data i.e, have more training data and corresponding masks\n",
        "2. Also because often the training images come with different sizes and this creates an issue while `batching` the images"
      ]
    },
    {
      "cell_type": "markdown",
      "id": "3860804f",
      "metadata": {
        "id": "3860804f"
      },
      "source": [
        "## Chapter 3\n",
        "### Batching\n",
        "\n",
        "In ML/DL, we often have to deal with very large datasets. It soon becomes inefficient to process all the data at once, so it's useful to split the data into \"mini-batches\" that we can process individually.\n",
        "\n",
        "So for purely reasons of computational cost, this is often useful.\n",
        "\n",
        "We will also see another reason for which batching can be useful - for instance when running gradient descent on non-convex landscapes.\n",
        "Here, computing the gradient on a subset of the data gives us an approximate/noisy gradient making it less likely for us to end up being stuck in local minima. This is what is referred to as \"stochastic gradient descent\".\n",
        "\n",
        "Let us make our first batch of images, containing $B$ number of images.\n",
        "The shape of the batch will thus get an additional \"batch dimension\" at the first dimension, i.e. (batch_size, num_channels, height, width)."
      ]
    },
    {
      "cell_type": "markdown",
      "id": "1636cc38",
      "metadata": {
        "cell_marker": "\"\"\"",
        "id": "1636cc38"
      },
      "source": [
        "<div class=\"alert alert-info\">\n",
        "\n",
        "### Task 3.1\n",
        "\n",
        "Make a batch of size $B=4$ by sampling 4 images randomly from the available images (this will be a 4D np array).\n",
        "<br> Here, you would also have to ensure that the second axis corresponds to the channel (use `np.transpose`)\n",
        "\n",
        "**Hint**: Use `np.random.choice` to sample 4 random indices from the list of image filenames.\n",
        "`np.random.randint` (which we have used above) to select batches could give duplicate images in a batch. In this case, your batch should contain 4 unique images."
      ]
    },
    {
      "cell_type": "code",
      "execution_count": null,
      "id": "8087a39b",
      "metadata": {
        "tags": [
          "task"
        ],
        "id": "8087a39b"
      },
      "outputs": [],
      "source": [
        "##########################\n",
        "######## To Do ###########\n",
        "##########################\n",
        "\n",
        "# `batch` should be a np array with shape (4, 3, 1000, 1000).\n",
        "\n",
        "batch = ...  # TODO\n",
        "print(f\"Batch of images has shape {batch.shape}\")"
      ]
    },
    {
      "cell_type": "markdown",
      "id": "e3d08693",
      "metadata": {
        "id": "e3d08693"
      },
      "source": [
        "### Convolutions\n",
        "\n",
        "Convolutions are the elementary operations used in Convolutional Neural Networks (CNNs). <br> The images (and later, the feature maps) are convolved with multiple filters whose weights are learned. <br>\n",
        "\n",
        "![](https://upload.wikimedia.org/wikipedia/commons/1/19/2D_Convolution_Animation.gif)\n",
        "\n",
        "\n",
        "Please read this section https://en.wikipedia.org/wiki/Kernel_(image_processing)#Convolution on convolutions to learn how to implement a your own convolution function!\n",
        "\n",
        "Here we will optionally demonstrate TQDM which is a package that provides a progress bar for loops.\n",
        "This is useful when you have a loop that takes a long time to run and you want to know how far along the loop is.\n",
        "Read more about TQDM [here](https://tqdm.github.io/)"
      ]
    },
    {
      "cell_type": "markdown",
      "id": "7dea567a",
      "metadata": {
        "cell_marker": "\"\"\"",
        "id": "7dea567a"
      },
      "source": [
        "<div class=\"alert alert-info\">\n",
        "\n",
        "### Task 3.2\n",
        "Implement a function that performs a convolution of an image with a filter.\n",
        "<br> Assume that your image is square and that your filter is square and has an odd width. You can set arbitrary values in your filter for now.\n",
        "<br> Note that your output image will be smaller.\n",
        "\n",
        "**A few things to note:** <br>\n",
        "-- Filter: A filter is a matrix that is convolved with the image. The filter is also known as a kernel. It computes the correlation between the itself and the image. It is kind of finding the similarity between the filter and the image.\n",
        "The filter is applied to the image by sliding the filter over the image and computing the dot product between the filter and the image at each location. The output of the convolution is called the feature map (a concept that will come up in future exercises).\n",
        "\n",
        "-- The filter is usually a square matrix with odd dimensions. This is because the filter is applied to the image by sliding it over the image. If the filter has even dimensions, it will not have a center pixel. This will make it difficult to align the filter with the image.\n",
        "If the filter is not square, we loose the symmetrical applicability of the filter. The filter then will have to be applied in different directions (height, width) separately. This will make the implementation more complex and migt lead to distortions in the output features."
      ]
    },
    {
      "cell_type": "code",
      "execution_count": null,
      "id": "5a72b925",
      "metadata": {
        "tags": [
          "task"
        ],
        "id": "5a72b925"
      },
      "outputs": [],
      "source": [
        "##########################\n",
        "######## To Do ###########\n",
        "##########################\n",
        "\n",
        "from tqdm import tqdm # tqdm is used to show progress bars in loops\n",
        "\n",
        "def conv2d(img, kernel):\n",
        "    assert kernel.shape[0] == kernel.shape[1]\n",
        "    assert kernel.shape[0] % 2 != 0\n",
        "\n",
        "    h, w = img.shape[0], img.shape[1]  # Starting size of image\n",
        "    d_k = kernel.shape[0]  # Size of kernel\n",
        "\n",
        "    h_new = h - d_k + 1  # Calculate the new height of the array\n",
        "    w_new = w - d_k + 1  # Calculate the new width of the array\n",
        "    output = np.zeros((h_new, w_new))\n",
        "\n",
        "    # TODO: add your code for filling output with the convolved image\n",
        "    for i in tqdm(range(output.shape[0]), desc=\"Processing rows\", position=0, leave=True):\n",
        "        for j in tqdm(range(output.shape[1]),desc=\"Processing columns\", position=0, leave=False):\n",
        "            ...\n",
        "\n",
        "    return output"
      ]
    },
    {
      "cell_type": "code",
      "execution_count": null,
      "id": "56e3e45b",
      "metadata": {
        "id": "56e3e45b"
      },
      "outputs": [],
      "source": [
        "# Run this cell to check your function\n",
        "\n",
        "identity = np.array([[0, 0, 0],\n",
        "                     [0, 1, 0],\n",
        "                     [0, 0, 0]])\n",
        "# Let's take a 256x256 center crop of the image for better visualization of the effect of the convolution\n",
        "new_im = conv2d(img[128:384, 128:384, 0], identity)\n",
        "# Lets print the original image and the convolved image\n",
        "print(img[128:384, 128:384, 0].shape)\n",
        "print(new_im.shape)\n",
        "\n",
        "#Lets visualize the original image and the convolved image and the filter\n",
        "plt.figure(figsize=(10, 10))\n",
        "plt.subplot(131)\n",
        "plt.imshow(img[128:384, 128:384, 0])\n",
        "plt.title(\"Original Image\")\n",
        "plt.subplot(132)\n",
        "plt.imshow(identity)\n",
        "plt.title(\"Kernel\")\n",
        "plt.subplot(133)\n",
        "plt.imshow(new_im)\n",
        "plt.title(\"Convolved Image\")\n",
        "plt.tight_layout()"
      ]
    },
    {
      "cell_type": "markdown",
      "id": "4e50ff57",
      "metadata": {
        "id": "4e50ff57"
      },
      "source": [
        "**Bonus: Try differnt (arbitary?) filters and see how the output changes! You can find some here: https://en.wikipedia.org/wiki/Kernel_(image_processing)**"
      ]
    },
    {
      "cell_type": "markdown",
      "id": "880cb9dd",
      "metadata": {
        "cell_marker": "\"\"\"",
        "lines_to_next_cell": 0,
        "id": "880cb9dd"
      },
      "source": [
        "<div class=\"alert alert-info\">\n",
        "\n",
        "### Task 3.3\n",
        "\n",
        "We noticed that the output image is smaller than the input image! <br>\n",
        "\n",
        "Can you come up with an analytical relationship regarding how much smaller the output image is *vis-à-vis* the input image? <br>\n",
        "Can you think of any strategy which ensures that the output image is the same size as the input image?"
      ]
    },
    {
      "cell_type": "code",
      "execution_count": null,
      "id": "518964d7",
      "metadata": {
        "tags": [
          "task"
        ],
        "id": "518964d7"
      },
      "outputs": [],
      "source": [
        "##########################\n",
        "######## To Do ###########\n",
        "##########################"
      ]
    },
    {
      "cell_type": "markdown",
      "id": "e8a8a398",
      "metadata": {
        "id": "e8a8a398"
      },
      "source": [
        "### Filters\n",
        "\n",
        "Let us try to understand what could the values of the filter be. <br>\n"
      ]
    },
    {
      "cell_type": "markdown",
      "id": "87ac80d3",
      "metadata": {
        "cell_marker": "\"\"\"",
        "id": "87ac80d3"
      },
      "source": [
        "<div class=\"alert alert-info\">\n",
        "\n",
        "The following is known as the [Sobel filter](https://en.wikipedia.org/wiki/Sobel_operator):\n",
        "\n",
        "$$\n",
        "\\begin{bmatrix}\n",
        "    1 & 2 & 1 \\\\\n",
        "    0 & 0 & 0 \\\\\n",
        "    -1 & -2 & -1\n",
        "\\end{bmatrix}\n",
        "$$\n",
        "\n",
        "### Task 3.4\n",
        "Apply the Sobel filter and describe what it does"
      ]
    },
    {
      "cell_type": "code",
      "execution_count": null,
      "id": "ca6be6e8",
      "metadata": {
        "tags": [
          "task"
        ],
        "id": "ca6be6e8"
      },
      "outputs": [],
      "source": [
        "##########################\n",
        "######## To Do ###########\n",
        "##########################\n",
        "\n",
        "flter = ...  # TODO\n",
        "output_img = conv2d(img[128:384, 128:384, 0], flter)\n",
        "visualize(img[128:384, 128:384, 0], output_img)"
      ]
    },
    {
      "cell_type": "markdown",
      "id": "71979ecd",
      "metadata": {
        "cell_marker": "\"\"\"",
        "id": "71979ecd"
      },
      "source": [
        "<div class=\"alert alert-info\">\n",
        "\n",
        "### Task 3.5\n",
        "\n",
        "What feature in this image do you think this filter is detecting?"
      ]
    },
    {
      "cell_type": "code",
      "execution_count": null,
      "id": "fe0a9898",
      "metadata": {
        "tags": [
          "task"
        ],
        "id": "fe0a9898"
      },
      "outputs": [],
      "source": [
        "##########################\n",
        "######## To Do ###########\n",
        "##########################"
      ]
    },
    {
      "cell_type": "markdown",
      "id": "1bf3335c",
      "metadata": {
        "cell_marker": "\"\"\"",
        "id": "1bf3335c"
      },
      "source": [
        "<div class=\"alert alert-success\">\n",
        "\n",
        "<hr>\n",
        "Wow! 🤟 Post on the course chat when you reach this checkpoint!\n",
        "\n",
        "## Checkpoint 3\n",
        "\n",
        "In the third chapter, we learnt about:\n",
        "\n",
        "<li> Batching (here we understood the importance of batching in training models) </li>\n",
        "<li> Convolutions (The primary operation in Convolutional Neural Networks) </li>\n",
        "<li> Filters (The weights that are learned in Convolutional Neural Networks) </li>\n",
        "\n",
        "<hr>"
      ]
    },
    {
      "cell_type": "markdown",
      "id": "cd99f56b",
      "metadata": {
        "id": "cd99f56b"
      },
      "source": [
        "## Chapter 4: Data augmentation\n",
        "\n",
        "Having collected your hard earned data you want to make the most of it. In ML/DL, we're often limited by the size of our the training set.\n",
        "How could we artificially increase our data to provide more input to our model and help it generalize better?\n",
        "\n",
        "One trick is to make simple transformations to our data such as rotating or flipping it - this process is generally called \"data augmentation\" (DA) and is widely used in ML.\n",
        "\n",
        "Here we will implement some basic data augmentation techniques using numpy.\n",
        "\n",
        "**Note:** This is a good opportunity to learn how this augmentations work under the hood.\n",
        "However in practice, we would use libraries like `torchvision` or `monai` which are optimized for speed and have a wide range of augmentations available."
      ]
    },
    {
      "cell_type": "markdown",
      "id": "114f9ce7",
      "metadata": {
        "lines_to_next_cell": 0,
        "id": "114f9ce7"
      },
      "source": [
        "### Applying one augmentation at a time\n",
        "Lets apply one augmentation to the image at a time.\n",
        "**Note:** With advanced libraries like `torchvision` or `monai`, you can apply multiple augmentations at once. [Read more about [Torchvision](https://pytorch.org/vision/stable/index.html) and [Monai](https://docs.monai.io/en/latest/transforms.html)]"
      ]
    },
    {
      "cell_type": "code",
      "execution_count": null,
      "id": "9944ae01",
      "metadata": {
        "lines_to_next_cell": 0,
        "id": "9944ae01"
      },
      "outputs": [],
      "source": [
        "# Flip horizontally\n",
        "img_flip_horizontal = img[:, ::-1]\n",
        "# Flip vertically\n",
        "img_flip_vertical = img[::-1, :]\n",
        "# Rotate by 45 degrees\n",
        "img_rotate = np.rot90(img, k=1)\n",
        "\n",
        "#Let's visualize the original image and the augmented image\n",
        "plt.figure(figsize=(10, 10))\n",
        "plt.subplot(141)\n",
        "plt.imshow(img)\n",
        "plt.title(\"Original Image\")\n",
        "plt.subplot(142)\n",
        "plt.imshow(img_flip_horizontal)\n",
        "plt.title(\"Horizontal Flip\")\n",
        "plt.subplot(143)\n",
        "plt.imshow(img_flip_vertical)\n",
        "plt.title(\"Vertical Flip\")\n",
        "plt.subplot(144)\n",
        "plt.imshow(img_rotate)\n",
        "plt.title(\"Rotate by 45 degrees\")\n",
        "plt.tight_layout()"
      ]
    },
    {
      "cell_type": "markdown",
      "id": "c123eba8",
      "metadata": {
        "cell_marker": "\"\"\"",
        "id": "c123eba8"
      },
      "source": [
        "<div class=\"alert alert-info\">\n",
        "\n",
        "### Task 4.1\n",
        "Familiarize yourself with the different augmentations available through `torchvision`.\n",
        "\n",
        "Refer to the [examples](https://pytorch.org/vision/0.13/transforms.html) and identify and apply augmentations that you think are interesting."
      ]
    },
    {
      "cell_type": "code",
      "execution_count": null,
      "id": "62e03104",
      "metadata": {
        "tags": [
          "task"
        ],
        "id": "62e03104"
      },
      "outputs": [],
      "source": [
        "##########################\n",
        "######## To Do ###########\n",
        "##########################"
      ]
    },
    {
      "cell_type": "markdown",
      "id": "e1cb067a",
      "metadata": {
        "cell_marker": "\"\"\"",
        "id": "e1cb067a"
      },
      "source": [
        "<div class=\"alert alert-info\">\n",
        "\n",
        "### Task 4.2\n",
        "Q1. While augmenting images and segmentation masks, should they be augmented similarly or differently? Discuss. <br>\n",
        "Q2. What are the disadvantages of augmenting images? When can it be harmful?"
      ]
    },
    {
      "cell_type": "code",
      "execution_count": null,
      "id": "b2cf8bb5",
      "metadata": {
        "tags": [
          "task"
        ],
        "id": "b2cf8bb5"
      },
      "outputs": [],
      "source": [
        "##########################\n",
        "######## To Do ###########\n",
        "##########################"
      ]
    },
    {
      "cell_type": "markdown",
      "id": "e9147857",
      "metadata": {
        "cell_marker": "\"\"\"",
        "id": "e9147857"
      },
      "source": [
        "<div class=\"alert alert-success\">\n",
        "\n",
        "<hr>\n",
        "Hurrah! 😃\n",
        "\n",
        "## Checkpoint 4\n",
        "\n",
        "In the fourth chapter, we learnt about data augmentation which is an important concept in training models. Data augmentation helps in artificially increasing the size of the training data which is useful for training models in a data efficient way.\n",
        "We implemented some basic data augmentation techniques using numpy.\n",
        "\n",
        "<hr>"
      ]
    },
    {
      "cell_type": "markdown",
      "id": "a6fca221",
      "metadata": {
        "lines_to_next_cell": 0,
        "id": "a6fca221"
      },
      "source": [
        "## Chapter 5: (Optional) Advanced Plotting and Visualization\n",
        "\n",
        "Python's matplotlib is a powerful library for creating visualizations.\n",
        "It is also highly customizable and can be used to create complex plots.\n",
        "In deep learning, visualizing the data is important as it helps in understanding the data and the model better.\n",
        "Therefore, it is important to know how to create different types of plots using matplotlib with specific (useful) functions.\n",
        "\n",
        "### Colormap\n",
        "You can choose a specific colormap to visualize your images.\n",
        "Read more about colormaps [here](https://matplotlib.org/stable/tutorials/colors/colormaps.html)"
      ]
    },
    {
      "cell_type": "code",
      "execution_count": null,
      "id": "17ffbf57",
      "metadata": {
        "id": "17ffbf57"
      },
      "outputs": [],
      "source": [
        "plt.imshow(img[..., 0], cmap=\"magma\")  #Note that we are only showing the first channel of the image\n",
        "plt.axis(\"off\")\n",
        "plt.show()"
      ]
    },
    {
      "cell_type": "markdown",
      "id": "802c7c12",
      "metadata": {
        "lines_to_next_cell": 0,
        "id": "802c7c12"
      },
      "source": [
        "\n",
        "### Colorbar\n",
        "Sometimes, you may want to add a colorbar to your image to show the intensity values.\n",
        "\n",
        "**Note**: The <code>vmin</code> and <code>vmax</code> arguments are used to set the range of the colorbar.\n",
        "In this case, the intensity values range from 0 to 255. But you can set the range to any values you want (based on the intensity values in the image). <br>\n",
        "**Note**: for plotting colorbar for instance mask (in the future), you can use <code>viridis</code> colormap for the mask for better visualization."
      ]
    },
    {
      "cell_type": "code",
      "execution_count": null,
      "id": "29b19d5f",
      "metadata": {
        "lines_to_next_cell": 0,
        "id": "29b19d5f"
      },
      "outputs": [],
      "source": [
        "plt.figure(figsize=(6, 6))\n",
        "plt.imshow(img[..., 0], cmap=\"magma\", vmin=0, vmax=255)\n",
        "plt.colorbar()\n",
        "plt.axis(\"off\")\n",
        "plt.show()"
      ]
    },
    {
      "cell_type": "markdown",
      "id": "2fe95364",
      "metadata": {
        "id": "2fe95364"
      },
      "source": [
        "\n",
        "### Plotting Histograms\n",
        "- Let's see the histogram of the intensity values\n",
        "- <code>img</code> is an 8-bit image, so the intensity values range from 0 to 255"
      ]
    },
    {
      "cell_type": "code",
      "execution_count": null,
      "id": "9ed702be",
      "metadata": {
        "id": "9ed702be"
      },
      "outputs": [],
      "source": [
        "plt.figure(figsize=(6, 6))\n",
        "# bins indicate how may unique buclets you might want to put your values in and range is the min and max values in the image\n",
        "# Try different values for bins and range to see how the histogram changes\n",
        "plt.hist(img[..., 0].ravel(), bins=255, range=(0.0, img[..., 0].max()))\n",
        "plt.xlabel(\"Intensity Value\")\n",
        "plt.ylabel(\"Count\")\n",
        "plt.show()"
      ]
    },
    {
      "cell_type": "markdown",
      "id": "69caa3b3",
      "metadata": {
        "id": "69caa3b3"
      },
      "source": [
        "Often we might need to plot multiple images side by side.\n",
        "Let's plot the crop of the original image from different locations side by side."
      ]
    },
    {
      "cell_type": "code",
      "execution_count": null,
      "id": "ac664069",
      "metadata": {
        "id": "ac664069"
      },
      "outputs": [],
      "source": [
        "fig, ax = plt.subplots(2, 2, figsize=(8, 8))\n",
        "ax[0, 0].imshow(img[0:512, 0:512, :], cmap=\"magma\")\n",
        "ax[0, 1].imshow(img[512:, 512:, :], cmap=\"magma\")\n",
        "ax[1, 0].imshow(img[512:, 0:512, :], cmap=\"magma\")\n",
        "ax[1, 1].imshow(img[0:512, 512:, :], cmap=\"magma\")"
      ]
    },
    {
      "cell_type": "markdown",
      "id": "e641cbb6",
      "metadata": {
        "cell_marker": "\"\"\"",
        "lines_to_next_cell": 0,
        "id": "e641cbb6"
      },
      "source": [
        "<div class=\"alert alert-info\">\n",
        "\n",
        "### Task 5.1\n",
        "With all that knowledge, let's plot the 4 crop of the image in a first row and their histograms in a second row."
      ]
    },
    {
      "cell_type": "code",
      "execution_count": null,
      "id": "1cfe8df4",
      "metadata": {
        "tags": [
          "task"
        ],
        "id": "1cfe8df4"
      },
      "outputs": [],
      "source": [
        "##########################\n",
        "######## To Do ###########\n",
        "##########################"
      ]
    },
    {
      "cell_type": "markdown",
      "id": "2067edd4",
      "metadata": {
        "cell_marker": "\"\"\"",
        "id": "2067edd4"
      },
      "source": [
        "<div class=\"alert alert-success\">\n",
        "\n",
        "<hr>\n",
        "Hurrah! 😃\n",
        "\n",
        "## Checkpoint 5\n",
        "\n",
        "Chapter 5 is a bonus chapter where we learnt about:\n",
        "\n",
        "<li> Using colormaps to visualize images </li>\n",
        "<li> Adding colorbars to images </li>\n",
        "<li> Plotting histograms </li>\n",
        "<li> Plotting multiple images side by side </li>\n",
        "<hr>"
      ]
    }
  ],
  "metadata": {
    "jupytext": {
      "cell_metadata_filter": "all",
      "main_language": "python"
    },
    "colab": {
      "provenance": []
    },
    "language_info": {
      "name": "python"
    },
    "kernelspec": {
      "name": "python3",
      "display_name": "Python 3"
    }
  },
  "nbformat": 4,
  "nbformat_minor": 5
}